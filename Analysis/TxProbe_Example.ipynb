{
 "cells": [
  {
   "cell_type": "code",
   "execution_count": 1,
   "id": "cfc0ba64-6218-4a88-af61-e78bfe3fbde6",
   "metadata": {},
   "outputs": [],
   "source": [
    "from test_framework.messages import *\n",
    "from test_framework.p2p import *\n",
    "import socket\n",
    "import binascii\n",
    "import socket\n",
    "import struct\n",
    "import codecs\n",
    "import time\n",
    "import random\n",
    "import hashlib\n",
    "import binascii\n",
    "from datetime import datetime\n",
    "import io"
   ]
  },
  {
   "cell_type": "markdown",
   "id": "36088464-5b52-45b0-9452-de75e5f51dc2",
   "metadata": {},
   "source": [
    "#### Custom methods from https://github.com/bitcoin/bitcoin/tree/master/test/functional/test_framework"
   ]
  },
  {
   "cell_type": "markdown",
   "id": "95897606-565c-4bf5-8b78-292d868f4f86",
   "metadata": {},
   "source": [
    "#### Settings"
   ]
  },
  {
   "cell_type": "code",
   "execution_count": 2,
   "id": "01fa33e2-c716-416e-b057-403984f25617",
   "metadata": {},
   "outputs": [],
   "source": [
    "default_port    = 18333\n",
    "magic_          = 0x0709110B\n",
    "max_n_bits      = 0x1d00ffff\n",
    "version_        = 70015\n",
    "command         = b\"version\"\n",
    "#host            = \"8.9.3.218\"\n",
    "host            = \"82.197.160.8\"   # node Thush\n",
    "MAGIC_BYTES     = b\"\\x0b\\x11\\x09\\x07\""
   ]
  },
  {
   "cell_type": "code",
   "execution_count": 3,
   "id": "9bc7993e-a8c9-4bde-92a9-dfa05d685eac",
   "metadata": {},
   "outputs": [],
   "source": [
    "class Message:\n",
    "    __slots__ = (\"addrFrom\", \"nPortFrom\", \"addrTo\", \"nPortTo\", \"nNonce\", \"relay\", \"nServices\",\n",
    "                 \"nStartingHeight\", \"nTime\", \"nVersion\", \"strSubVer\",\"bMagic\", \"bCommand\",\"timestamp\")\n",
    "    \n",
    "    def __init__(self):\n",
    "        self.nNonce = random.getrandbits(64)\n",
    "        self.nStartingHeight = 596306\n",
    "        self.relay = False\n",
    "        self.nPortFrom = 0\n",
    "        self.addrFrom = \"\"\n",
    "\n",
    "    def serialize(self, command):\n",
    "        self.bCommand = command\n",
    "        # header \n",
    "        header     = b\"\"\n",
    "        header     += struct.pack(\"i\",self.bMagic)                    # magic value                           \n",
    "        header     += struct.pack(\"<12s\",command)                     # command\n",
    "        \n",
    "        # payload\n",
    "        payload    = b\"\"\n",
    "        payload    += struct.pack(\"i\", self.nVersion)\n",
    "        payload    += struct.pack(\"Q\", self.nServices)\n",
    "        payload    += struct.pack(\"q\", int(time.time()))\n",
    "        payload    += struct.pack(\"Q\",0);\n",
    "        \n",
    "        payload    +=b\"\\x00\" * 10 + b\"\\xff\" * 2\n",
    "        payload    += socket.inet_aton(self.addrTo)\n",
    "        payload    += struct.pack(\">H\",self.nPortTo)                    # Receiver Port\n",
    "        payload    += struct.pack(\"Q\",0)\n",
    "        payload    += struct.pack(\">16s\",bytes(self.addrFrom,'utf-8'))  # Sender IP Address\n",
    "        payload    += struct.pack(\">H\",self.nPortFrom)                  # Sender Port\n",
    "        payload    += struct.pack(\"<Q\", self.nNonce)\n",
    "        payload    += struct.pack(\"B\",0)                                # Bytes in version string\n",
    "        payload    += struct.pack(\"i\", self.nStartingHeight)\n",
    "        payload    += struct.pack(\"?\", self.relay)\n",
    "        \n",
    "        # length and checksum\n",
    "        length     = struct.pack(\"I\", len(payload));\n",
    "        checksum   = hashlib.sha256(hashlib.sha256(payload).digest()).digest()[:4];\n",
    "        \n",
    "        return header + length + checksum + payload\n",
    "    \n",
    "    def deserialize(self, reply):\n",
    "        self.bMagic          = struct.unpack(\"i\",reply.read(4))[0]\n",
    "        self.bCommand        = struct.unpack(\"<12s\",reply.read(12))[0].split(b\"\\x00\", 1)[0]\n",
    "        length               = struct.unpack(\"I\", reply.read(4))[0]\n",
    "        checksum             = struct.unpack(\"I\", reply.read(4))[0]\n",
    "        self.nVersion        = struct.unpack(\"i\", reply.read(4))[0]\n",
    "        self.nServices       = struct.unpack(\"Q\", reply.read(8))[0]\n",
    "        self.timestamp       = datetime.fromtimestamp(struct.unpack(\"q\", reply.read(8))[0])\n",
    "        toServices           = struct.unpack(\"Q\", reply.read(8))[0]\n",
    "        # Skip 12 Bytes for IPv4\n",
    "        reply.read(12)\n",
    "        self.addrTo          = socket.inet_ntoa(reply.read(4))\n",
    "        self.nPortTo         = struct.unpack(\">H\", reply.read(2))[0]\n",
    "        fromServices         = struct.unpack(\"Q\", reply.read(8))[0]\n",
    "        # Skip 12 Bytes for IPv4\n",
    "        reply.read(12)\n",
    "        self.addrFrom        = socket.inet_ntoa(reply.read(4))\n",
    "        self.nPortFrom       = struct.unpack(\">H\", reply.read(2))[0]\n",
    "        self.nNonce          = struct.unpack(\"<Q\", reply.read(8))[0]\n",
    "        user_agent_byes      = struct.unpack(\"B\", reply.read(1))[0]\n",
    "        self.nStartingHeight = struct.unpack(\"i\",reply.read(4))\n",
    "        relay                = struct.unpack(\"?\",reply.read(1))\n",
    "        \n"
   ]
  },
  {
   "cell_type": "code",
   "execution_count": 4,
   "id": "1f4a7c1d-16b9-4a98-a672-91af37b96293",
   "metadata": {},
   "outputs": [],
   "source": [
    "message            = Message()\n",
    "message.nVersion   = 70015\n",
    "message.nServices  = 0\n",
    "message.addrTo     = \"82.197.160.8\"\n",
    "message.nPortTo    = 18333\n",
    "message.bMagic     = magic_"
   ]
  },
  {
   "cell_type": "code",
   "execution_count": 5,
   "id": "8dd43f7a-821f-4c99-83fe-5de3aa0c1146",
   "metadata": {},
   "outputs": [
    {
     "name": "stdout",
     "output_type": "stream",
     "text": [
      "Sending b'version'\n",
      "Received b'version'\n",
      "Sending b'verack'\n",
      "Received b'sendheaders'\n"
     ]
    }
   ],
   "source": [
    "sock = socket.socket(socket.AF_INET, socket.SOCK_STREAM);\n",
    "\n",
    "reply_1 = Message()\n",
    "reply_2 = Message()\n",
    "\n",
    "sock.connect((message.addrTo,message.nPortTo));\n",
    "\n",
    "sock.send(message.serialize(b'version'));\n",
    "print(f\"Sending {message.bCommand}\")\n",
    "time.sleep(1);\n",
    "reply1 = sock.recv(1024);\n",
    "reply_1.deserialize(io.BytesIO(reply1))\n",
    "\n",
    "print(f\"Received {reply_1.bCommand}\")\n",
    "\n",
    "sock.send(message.serialize(b'verack'));\n",
    "print(f\"Sending {message.bCommand}\")\n",
    "time.sleep(1);\n",
    "reply2 = sock.recv(1024);\n",
    "reply_2.deserialize(io.BytesIO(reply2))\n",
    "print(f\"Received {reply_2.bCommand}\")\n",
    "\n",
    "sock.close()"
   ]
  },
  {
   "cell_type": "code",
   "execution_count": null,
   "id": "f81d562c-bf99-4ed8-bfa2-ef569da8a78f",
   "metadata": {},
   "outputs": [],
   "source": []
  }
 ],
 "metadata": {
  "kernelspec": {
   "display_name": "Python 3 (ipykernel)",
   "language": "python",
   "name": "python3"
  },
  "language_info": {
   "codemirror_mode": {
    "name": "ipython",
    "version": 3
   },
   "file_extension": ".py",
   "mimetype": "text/x-python",
   "name": "python",
   "nbconvert_exporter": "python",
   "pygments_lexer": "ipython3",
   "version": "3.9.10"
  }
 },
 "nbformat": 4,
 "nbformat_minor": 5
}
